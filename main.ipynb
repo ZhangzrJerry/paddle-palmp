{
 "cells": [
  {
   "cell_type": "code",
   "execution_count": 12,
   "metadata": {
    "execution": {
     "iopub.execute_input": "2023-02-04T12:25:17.203140Z",
     "iopub.status.busy": "2023-02-04T12:25:17.201982Z",
     "iopub.status.idle": "2023-02-04T12:25:17.208670Z",
     "shell.execute_reply": "2023-02-04T12:25:17.207940Z",
     "shell.execute_reply.started": "2023-02-04T12:25:17.203093Z"
    },
    "scrolled": true,
    "tags": []
   },
   "outputs": [
    {
     "name": "stdout",
     "output_type": "stream",
     "text": [
      "2.4.1\n"
     ]
    }
   ],
   "source": [
    "import paddle\n",
    "import paddle.nn.functional as F\n",
    "import numpy as np\n",
    "import pandas as pd\n",
    "import os\n",
    "from paddle import nn\n",
    "from PIL import Image\n",
    "from paddle.distributed import fleet, get_rank\n",
    "from visualdl import LogWriter\n",
    "import matplotlib.pyplot as plt\n",
    "from paddle.vision.transforms import *\n",
    "import copy\n",
    "\n",
    "IMAGE_SIZE = 224\n",
    "BATCH_SIZE = 5\n",
    "# EPOCH_NUM = 1\n",
    "\n",
    "print(paddle.__version__)"
   ]
  },
  {
   "cell_type": "code",
   "execution_count": 25,
   "metadata": {
    "execution": {
     "iopub.execute_input": "2023-02-04T12:25:17.210408Z",
     "iopub.status.busy": "2023-02-04T12:25:17.210075Z",
     "iopub.status.idle": "2023-02-04T12:25:17.216012Z",
     "shell.execute_reply": "2023-02-04T12:25:17.215376Z",
     "shell.execute_reply.started": "2023-02-04T12:25:17.210381Z"
    },
    "scrolled": true,
    "tags": []
   },
   "outputs": [],
   "source": [
    "def transform(img):\n",
    "    # 基本变换\n",
    "    imgs = np.array([img,rotate(img,90),rotate(img,180),rotate(img,270)])\n",
    "    temp = []\n",
    "    # 提高亮度\n",
    "    for img in imgs:\n",
    "        temp.append(adjust_brightness(img,1))\n",
    "        temp.append(adjust_brightness(img,3))\n",
    "        temp.append(adjust_brightness(img,5))\n",
    "        temp.append(adjust_contrast(img,3))\n",
    "        temp.append(adjust_contrast(img,1.7))\n",
    "        temp.append(adjust_contrast(img,-2))\n",
    "        temp.append(adjust_hue(img,0.5))\n",
    "    imgs = np.concatenate((imgs, np.array(temp)))\n",
    "    return imgs"
   ]
  },
  {
   "cell_type": "code",
   "execution_count": 23,
   "metadata": {
    "execution": {
     "iopub.execute_input": "2023-02-04T12:25:17.217253Z",
     "iopub.status.busy": "2023-02-04T12:25:17.216865Z",
     "iopub.status.idle": "2023-02-04T12:25:17.227796Z",
     "shell.execute_reply": "2023-02-04T12:25:17.227084Z",
     "shell.execute_reply.started": "2023-02-04T12:25:17.217229Z"
    },
    "scrolled": true,
    "tags": []
   },
   "outputs": [],
   "source": [
    "# 定义数据集\n",
    "class MyDataset(paddle.io.Dataset):\n",
    "    def __init__(self, img_dir='data/PALM-Training400/', csv_dir='data/Classification.csv') -> None:\n",
    "        super(MyDataset, self).__init__()\n",
    "        if csv_dir is None:\n",
    "            self.csvfile = None\n",
    "            self.filedir = os.listdir(img_dir)\n",
    "        else:\n",
    "            self.csvfile = pd.read_csv(csv_dir)\n",
    "            self.imgpath = img_dir\n",
    "        pass\n",
    "    def __len__(self):\n",
    "        if self.csvfile is None:\n",
    "            return len(self.filedir)\n",
    "        else:\n",
    "            return len(self.csvfile)\n",
    "        pass\n",
    "    def __getitem__(self, idx):\n",
    "        if self.csvfile is None:\n",
    "            img = np.reshape(transform(np.array(Image.open(self.imgpath+os.sep+self.filedir[idx]).resize((IMAGE_SIZE,IMAGE_SIZE))).astype('float32')),(3,32,IMAGE_SIZE,IMAGE_SIZE))/256.\n",
    "            lab = self.filedir[idx]\n",
    "        else:\n",
    "            img = np.reshape(transform(np.array(Image.open(self.imgpath+os.sep+self.csvfile['imgName'][idx]).resize((IMAGE_SIZE,IMAGE_SIZE))).astype('float32')),(3,32,IMAGE_SIZE,IMAGE_SIZE))/256.\n",
    "            lab = np.array(self.csvfile['Label'][idx]).astype('float32')\n",
    "        return img,lab\n",
    "    pass\n",
    "mydataset = MyDataset()"
   ]
  },
  {
   "cell_type": "code",
   "execution_count": 11,
   "metadata": {
    "execution": {
     "iopub.execute_input": "2023-02-04T12:25:17.228809Z",
     "iopub.status.busy": "2023-02-04T12:25:17.228586Z",
     "iopub.status.idle": "2023-02-04T12:25:17.252107Z",
     "shell.execute_reply": "2023-02-04T12:25:17.251462Z",
     "shell.execute_reply.started": "2023-02-04T12:25:17.228788Z"
    },
    "scrolled": true,
    "tags": []
   },
   "outputs": [],
   "source": [
    "# 定义网络结构\n",
    "def vgg_block(num_convs, in_channels, out_channels):\n",
    "    net = [nn.Conv3D(in_channels=in_channels,out_channels=out_channels,kernel_size=3,padding=1),nn.ReLU()]\n",
    "    for i in range(num_convs-1):\n",
    "        net.append(nn.Conv3D(out_channels=out_channels,in_channels=out_channels,kernel_size=3,stride=1,padding=1))\n",
    "        net.append(nn.ReLU())\n",
    "    net.append(nn.MaxPool3D(kernel_size=2))\n",
    "    return nn.Sequential(*net)\n",
    "\n",
    "def vgg_stack(num_convs,channels):\n",
    "    net = []\n",
    "    for n,c in zip(num_convs,channels):\n",
    "        in_c = c[0]\n",
    "        out_c = c[1]\n",
    "        net.append(vgg_block(n,in_c,out_c))\n",
    "    return nn.Sequential(*net)\n",
    "\n",
    "class VGG(paddle.nn.Layer):\n",
    "    def __init__(self,vgg_net) -> None:\n",
    "        super(VGG,self).__init__()\n",
    "        self.conv = vgg_stack(vgg_net[0],vgg_net[1])\n",
    "        self.line = nn.Sequential(\n",
    "            nn.Linear(512*7*7,4096),\n",
    "            nn.ReLU(),\n",
    "            nn.Dropout(0.5),\n",
    "            nn.Linear(4096,4096),\n",
    "            nn.ReLU(),\n",
    "            nn.Dropout(0.5),\n",
    "            nn.Linear(4096,1)\n",
    "        )\n",
    "        \n",
    "    def forward(self,x):\n",
    "        x = self.conv(x)\n",
    "        x = paddle.flatten(x, 1, -1)\n",
    "        x = self.line(x)\n",
    "        return x\n",
    "\n",
    "net=VGG([[2,2,3,3,3], [[3,64],[64,128],[128,256],[256,512],[512,512]]])"
   ]
  },
  {
   "cell_type": "code",
   "execution_count": 12,
   "metadata": {
    "execution": {
     "iopub.execute_input": "2023-02-04T12:25:17.254504Z",
     "iopub.status.busy": "2023-02-04T12:25:17.254097Z",
     "iopub.status.idle": "2023-02-04T12:25:17.261297Z",
     "shell.execute_reply": "2023-02-04T12:25:17.260658Z",
     "shell.execute_reply.started": "2023-02-04T12:25:17.254480Z"
    },
    "scrolled": true,
    "tags": []
   },
   "outputs": [],
   "source": [
    "def train_pm(model, optimizer, train_loader, valid_loader):\n",
    "    # 开启0号GPU训练\n",
    "    paddle.device.set_device('gpu:0')\n",
    "\n",
    "    print('start training ... ')\n",
    "    model.train()\n",
    "    print('===')\n",
    "    for batch_id, data in enumerate(train_loader()):\n",
    "        print('===')\n",
    "        print('\\r{}/16'.format(batch_id+1),end='')\n",
    "        x_data, y_data = data\n",
    "        img = paddle.to_tensor(x_data)\n",
    "        label = paddle.reshape(paddle.to_tensor(y_data),(-1,1))\n",
    "        # 运行模型前向计算，得到预测值\n",
    "        return(img)\n",
    "        logits = model(img)\n",
    "        loss = F.binary_cross_entropy_with_logits(logits, label)\n",
    "        avg_loss = paddle.mean(loss)\n",
    "\n",
    "        if batch_id % 16 == 15:\n",
    "            print(\"epoch: {}, batch_id: {}, loss is: {:.4f}\".format(epoch, batch_id, float(avg_loss.numpy())))\n",
    "        # 反向传播，更新权重，清除梯度\n",
    "        avg_loss.backward()\n",
    "        optimizer.step()\n",
    "        optimizer.clear_grad()\n",
    "\n",
    "    # model.eval()\n",
    "    # accuracies = []\n",
    "    # losses = []\n",
    "    # for batch_id, data in enumerate(valid_loader()):\n",
    "    #     x_data, y_data = data\n",
    "    #     img = paddle.to_tensor(x_data)\n",
    "    #     label = paddle.reshape(paddle.to_tensor(y_data),(-1,1))\n",
    "    #     # 运行模型前向计算，得到预测值\n",
    "    #     logits = model(img)\n",
    "    #     # 二分类，sigmoid计算后的结果以0.5为阈值分两个类别\n",
    "    #     # 计算sigmoid后的预测概率，进行loss计算\n",
    "    #     pred = F.sigmoid(logits)\n",
    "    #     loss = F.binary_cross_entropy_with_logits(logits, label)\n",
    "    #     # 计算预测概率小于0.5的类别\n",
    "    #     pred2 = pred * (-1.0) + 1.0\n",
    "    #     # 得到两个类别的预测概率，并沿第一个维度级联\n",
    "    #     pred = paddle.concat([pred2, pred], axis=1)\n",
    "    #     acc = paddle.metric.accuracy(pred, paddle.cast(label, dtype='int64'))\n",
    "\n",
    "    #     accuracies.append(acc.numpy())\n",
    "    #     losses.append(loss.numpy())\n",
    "    # print(\"[validation] accuracy/loss: {:.4f}/{:.4f}\".format(np.mean(accuracies), np.mean(losses)))\n",
    "    # model.train()\n",
    "\n",
    "    # paddle.save(model.state_dict(), 'palmp.pdparams')\n",
    "    # paddle.save(optimizer.state_dict(), 'palmp.pdopt')"
   ]
  },
  {
   "cell_type": "code",
   "execution_count": 13,
   "metadata": {
    "execution": {
     "iopub.execute_input": "2023-02-04T12:25:17.262550Z",
     "iopub.status.busy": "2023-02-04T12:25:17.262128Z",
     "iopub.status.idle": "2023-02-04T12:25:17.267119Z",
     "shell.execute_reply": "2023-02-04T12:25:17.266476Z",
     "shell.execute_reply.started": "2023-02-04T12:25:17.262525Z"
    },
    "scrolled": true,
    "tags": []
   },
   "outputs": [],
   "source": [
    "opt = paddle.optimizer.SGD(learning_rate=0.001, parameters=net.parameters())"
   ]
  },
  {
   "cell_type": "code",
   "execution_count": 14,
   "metadata": {
    "execution": {
     "iopub.execute_input": "2023-02-04T12:25:17.268448Z",
     "iopub.status.busy": "2023-02-04T12:25:17.267916Z",
     "iopub.status.idle": "2023-02-04T12:25:17.279811Z",
     "shell.execute_reply": "2023-02-04T12:25:17.279160Z",
     "shell.execute_reply.started": "2023-02-04T12:25:17.268422Z"
    },
    "scrolled": true,
    "tags": []
   },
   "outputs": [],
   "source": [
    "for i in range(5):\n",
    "    valid_dataset = copy.deepcopy(mydataset)\n",
    "    valid_dataset.csvfile=mydataset.csvfile[i*160:i*160+160]\n",
    "    valid_dataloader=paddle.io.DataLoader(\n",
    "        valid_dataset,\n",
    "        drop_last=True,\n",
    "        batch_size=BATCH_SIZE)\n",
    "    train_dataset = copy.deepcopy(mydataset)\n",
    "    train_dataset.csvfile=mydataset.csvfile[0:i*160].append(mydataset.csvfile[i*160+160:])\n",
    "    train_dataloader=paddle.io.DataLoader(\n",
    "        train_dataset,\n",
    "        drop_last=True,\n",
    "        batch_size=BATCH_SIZE)\n",
    "    # train_pm(net, opt, train_dataloader, valid_dataloader)"
   ]
  },
  {
   "cell_type": "code",
   "execution_count": 15,
   "metadata": {
    "execution": {
     "iopub.execute_input": "2023-02-04T12:25:17.280784Z",
     "iopub.status.busy": "2023-02-04T12:25:17.280555Z",
     "iopub.status.idle": "2023-02-04T12:25:19.322520Z",
     "shell.execute_reply": "2023-02-04T12:25:19.321604Z",
     "shell.execute_reply.started": "2023-02-04T12:25:17.280762Z"
    },
    "scrolled": true,
    "tags": []
   },
   "outputs": [],
   "source": [
    "a = net(paddle.randn((5,3,32,224,224)))"
   ]
  },
  {
   "cell_type": "code",
   "execution_count": 16,
   "metadata": {
    "execution": {
     "iopub.execute_input": "2023-02-04T12:25:19.324258Z",
     "iopub.status.busy": "2023-02-04T12:25:19.323668Z",
     "iopub.status.idle": "2023-02-04T12:25:19.330991Z",
     "shell.execute_reply": "2023-02-04T12:25:19.330334Z",
     "shell.execute_reply.started": "2023-02-04T12:25:19.324225Z"
    },
    "scrolled": true,
    "tags": []
   },
   "outputs": [
    {
     "data": {
      "text/plain": [
       "Tensor(shape=[5, 1], dtype=float32, place=Place(gpu:0), stop_gradient=False,\n",
       "       [[ 4.01642990],\n",
       "        [-4.20592785],\n",
       "        [-4.84662724],\n",
       "        [-2.21960235],\n",
       "        [-2.93191361]])"
      ]
     },
     "execution_count": 16,
     "metadata": {},
     "output_type": "execute_result"
    }
   ],
   "source": [
    "a"
   ]
  },
  {
   "cell_type": "code",
   "execution_count": 17,
   "metadata": {
    "execution": {
     "iopub.execute_input": "2023-02-04T12:25:19.332662Z",
     "iopub.status.busy": "2023-02-04T12:25:19.331889Z",
     "iopub.status.idle": "2023-02-04T12:25:19.335340Z",
     "shell.execute_reply": "2023-02-04T12:25:19.334717Z",
     "shell.execute_reply.started": "2023-02-04T12:25:19.332636Z"
    },
    "scrolled": true,
    "tags": []
   },
   "outputs": [],
   "source": [
    "# a = train_pm(net, opt, train_dataloader, valid_dataloader)"
   ]
  },
  {
   "cell_type": "code",
   "execution_count": null,
   "metadata": {
    "scrolled": true
   },
   "outputs": [],
   "source": [
    "dataloader = paddle.io.DataLoader(\n",
    "    mydataset\n",
    ")"
   ]
  },
  {
   "cell_type": "code",
   "execution_count": 16,
   "metadata": {
    "execution": {
     "iopub.execute_input": "2023-02-04T12:25:19.336703Z",
     "iopub.status.busy": "2023-02-04T12:25:19.336173Z"
    },
    "scrolled": true,
    "tags": []
   },
   "outputs": [
    {
     "ename": "NameError",
     "evalue": "name 'dataloader' is not defined",
     "output_type": "error",
     "traceback": [
      "\u001b[0;31m---------------------------------------------------------------------------\u001b[0m",
      "\u001b[0;31mNameError\u001b[0m                                 Traceback (most recent call last)",
      "Cell \u001b[0;32mIn[16], line 1\u001b[0m\n\u001b[0;32m----> 1\u001b[0m \u001b[39mfor\u001b[39;00m x \u001b[39min\u001b[39;00m dataloader():\n\u001b[1;32m      2\u001b[0m     \u001b[39mprint\u001b[39m(x)\n",
      "\u001b[0;31mNameError\u001b[0m: name 'dataloader' is not defined"
     ]
    }
   ],
   "source": [
    "for x in dataloader():\n",
    "    print(x)"
   ]
  },
  {
   "cell_type": "code",
   "execution_count": 26,
   "metadata": {
    "scrolled": true,
    "tags": []
   },
   "outputs": [
    {
     "ename": "error",
     "evalue": "OpenCV(4.7.0) /io/opencv/modules/core/src/lut.cpp:366: error: (-215:Assertion failed) (lutcn == cn || lutcn == 1) && _lut.total() == 256 && _lut.isContinuous() && (depth == CV_8U || depth == CV_8S) in function 'LUT'\n",
     "output_type": "error",
     "traceback": [
      "\u001b[0;31m---------------------------------------------------------------------------\u001b[0m",
      "\u001b[0;31merror\u001b[0m                                     Traceback (most recent call last)",
      "Cell \u001b[0;32mIn[26], line 1\u001b[0m\n\u001b[0;32m----> 1\u001b[0m \u001b[39mfor\u001b[39;00m x \u001b[39min\u001b[39;00m mydataset:\n\u001b[1;32m      2\u001b[0m     \u001b[39mprint\u001b[39m(x)\n",
      "Cell \u001b[0;32mIn[23], line 23\u001b[0m, in \u001b[0;36mMyDataset.__getitem__\u001b[0;34m(self, idx)\u001b[0m\n\u001b[1;32m     21\u001b[0m     lab \u001b[39m=\u001b[39m \u001b[39mself\u001b[39m\u001b[39m.\u001b[39mfiledir[idx]\n\u001b[1;32m     22\u001b[0m \u001b[39melse\u001b[39;00m:\n\u001b[0;32m---> 23\u001b[0m     img \u001b[39m=\u001b[39m np\u001b[39m.\u001b[39mreshape(transform(np\u001b[39m.\u001b[39;49marray(Image\u001b[39m.\u001b[39;49mopen(\u001b[39mself\u001b[39;49m\u001b[39m.\u001b[39;49mimgpath\u001b[39m+\u001b[39;49mos\u001b[39m.\u001b[39;49msep\u001b[39m+\u001b[39;49m\u001b[39mself\u001b[39;49m\u001b[39m.\u001b[39;49mcsvfile[\u001b[39m'\u001b[39;49m\u001b[39mimgName\u001b[39;49m\u001b[39m'\u001b[39;49m][idx])\u001b[39m.\u001b[39;49mresize((IMAGE_SIZE,IMAGE_SIZE)))\u001b[39m.\u001b[39;49mastype(\u001b[39m'\u001b[39;49m\u001b[39mfloat32\u001b[39;49m\u001b[39m'\u001b[39;49m)),(\u001b[39m3\u001b[39m,\u001b[39m32\u001b[39m,IMAGE_SIZE,IMAGE_SIZE))\u001b[39m/\u001b[39m\u001b[39m256.\u001b[39m\n\u001b[1;32m     24\u001b[0m     lab \u001b[39m=\u001b[39m np\u001b[39m.\u001b[39marray(\u001b[39mself\u001b[39m\u001b[39m.\u001b[39mcsvfile[\u001b[39m'\u001b[39m\u001b[39mLabel\u001b[39m\u001b[39m'\u001b[39m][idx])\u001b[39m.\u001b[39mastype(\u001b[39m'\u001b[39m\u001b[39mfloat32\u001b[39m\u001b[39m'\u001b[39m)\n\u001b[1;32m     25\u001b[0m \u001b[39mreturn\u001b[39;00m img,lab\n",
      "Cell \u001b[0;32mIn[25], line 7\u001b[0m, in \u001b[0;36mtransform\u001b[0;34m(img)\u001b[0m\n\u001b[1;32m      5\u001b[0m \u001b[39m# 提高亮度\u001b[39;00m\n\u001b[1;32m      6\u001b[0m \u001b[39mfor\u001b[39;00m img \u001b[39min\u001b[39;00m imgs:\n\u001b[0;32m----> 7\u001b[0m     temp\u001b[39m.\u001b[39mappend(adjust_brightness(img,\u001b[39m1\u001b[39;49m))\n\u001b[1;32m      8\u001b[0m     temp\u001b[39m.\u001b[39mappend(adjust_brightness(img,\u001b[39m3\u001b[39m))\n\u001b[1;32m      9\u001b[0m     temp\u001b[39m.\u001b[39mappend(adjust_brightness(img,\u001b[39m5\u001b[39m))\n",
      "File \u001b[0;32m~/anaconda3/envs/globalenv/lib/python3.10/site-packages/paddle/vision/transforms/functional.py:409\u001b[0m, in \u001b[0;36madjust_brightness\u001b[0;34m(img, brightness_factor)\u001b[0m\n\u001b[1;32m    407\u001b[0m     \u001b[39mreturn\u001b[39;00m F_pil\u001b[39m.\u001b[39madjust_brightness(img, brightness_factor)\n\u001b[1;32m    408\u001b[0m \u001b[39melif\u001b[39;00m _is_numpy_image(img):\n\u001b[0;32m--> 409\u001b[0m     \u001b[39mreturn\u001b[39;00m F_cv2\u001b[39m.\u001b[39;49madjust_brightness(img, brightness_factor)\n\u001b[1;32m    410\u001b[0m \u001b[39melse\u001b[39;00m:\n\u001b[1;32m    411\u001b[0m     \u001b[39mreturn\u001b[39;00m F_t\u001b[39m.\u001b[39madjust_brightness(img, brightness_factor)\n",
      "File \u001b[0;32m~/anaconda3/envs/globalenv/lib/python3.10/site-packages/paddle/vision/transforms/functional_cv2.py:318\u001b[0m, in \u001b[0;36madjust_brightness\u001b[0;34m(img, brightness_factor)\u001b[0m\n\u001b[1;32m    316\u001b[0m     \u001b[39mreturn\u001b[39;00m cv2\u001b[39m.\u001b[39mLUT(img, table)[:, :, np\u001b[39m.\u001b[39mnewaxis]\n\u001b[1;32m    317\u001b[0m \u001b[39melse\u001b[39;00m:\n\u001b[0;32m--> 318\u001b[0m     \u001b[39mreturn\u001b[39;00m cv2\u001b[39m.\u001b[39;49mLUT(img, table)\n",
      "\u001b[0;31merror\u001b[0m: OpenCV(4.7.0) /io/opencv/modules/core/src/lut.cpp:366: error: (-215:Assertion failed) (lutcn == cn || lutcn == 1) && _lut.total() == 256 && _lut.isContinuous() && (depth == CV_8U || depth == CV_8S) in function 'LUT'\n"
     ]
    }
   ],
   "source": [
    "for x in mydataset:\n",
    "    print(x)"
   ]
  }
 ],
 "metadata": {
  "kernelspec": {
   "display_name": "base",
   "language": "python",
   "name": "python3"
  },
  "language_info": {
   "codemirror_mode": {
    "name": "ipython",
    "version": 3
   },
   "file_extension": ".py",
   "mimetype": "text/x-python",
   "name": "python",
   "nbconvert_exporter": "python",
   "pygments_lexer": "ipython3",
   "version": "3.10.8 (main, Nov 24 2022, 14:13:03) [GCC 11.2.0]"
  },
  "vscode": {
   "interpreter": {
    "hash": "ec69b73d0a6985895cc9f85863fd33c600647e90f46968e0f1901acb27b9505b"
   }
  }
 },
 "nbformat": 4,
 "nbformat_minor": 4
}
