{
 "cells": [
  {
   "cell_type": "code",
   "execution_count": 2,
   "metadata": {},
   "outputs": [
    {
     "name": "stdout",
     "output_type": "stream",
     "text": [
      "2.4.1\n"
     ]
    }
   ],
   "source": [
    "import paddle\n",
    "import paddle.nn.functional as F\n",
    "import numpy as np\n",
    "import pandas as pd\n",
    "import os\n",
    "from paddle import nn\n",
    "from PIL import Image\n",
    "\n",
    "IMAGE_SIZE = 224\n",
    "\n",
    "print(paddle.__version__)"
   ]
  },
  {
   "cell_type": "code",
   "execution_count": 3,
   "metadata": {},
   "outputs": [],
   "source": [
    "# 定义数据集\n",
    "class MyDataset(paddle.io.Dataset):\n",
    "    def __init__(self, img_dir='data/PALM-Training400/', csv_dir='data/Classification.csv') -> None:\n",
    "        super(MyDataset, self).__init__()\n",
    "        self.csvfile = pd.read_csv(csv_dir)\n",
    "        self.imgpath = img_dir\n",
    "        pass\n",
    "    def __len__(self):\n",
    "        return len(self.csvfile)\n",
    "    def __getitem__(self, idx):\n",
    "        img = np.reshape((np.array(Image.open(self.imgpath+os.sep+self.csvfile['imgName'][idx]).resize((IMAGE_SIZE,IMAGE_SIZE))).astype('float32')),(3,IMAGE_SIZE,IMAGE_SIZE))/256.\n",
    "        lab = np.array(self.csvfile['Label'][idx])\n",
    "        return img,lab\n",
    "    pass\n",
    "mydataset = MyDataset()\n",
    "mydataloader = paddle.io.DataLoader(\n",
    "    mydataset,\n",
    "    batch_size=4\n",
    ")"
   ]
  },
  {
   "cell_type": "code",
   "execution_count": 4,
   "metadata": {},
   "outputs": [],
   "source": [
    "# 定义网络结构\n",
    "def vgg_block(num_convs, in_channels, out_channels):\n",
    "    net = [nn.Conv2D(in_channels=in_channels,out_channels=out_channels,kernel_size=3,padding=1),nn.ReLU()]\n",
    "    for i in range(num_convs-1):\n",
    "        net.append(nn.Conv2D(out_channels=out_channels,in_channels=out_channels,kernel_size=3,stride=1,padding=1))\n",
    "        net.append(nn.ReLU())\n",
    "    net.append(nn.MaxPool2D(kernel_size=2))\n",
    "    return nn.Sequential(*net)\n",
    "\n",
    "def vgg_stack(num_convs,channels):\n",
    "    net = []\n",
    "    for n,c in zip(num_convs,channels):\n",
    "        in_c = c[0]\n",
    "        out_c = c[1]\n",
    "        net.append(vgg_block(n,in_c,out_c))\n",
    "    return nn.Sequential(*net)\n",
    "\n",
    "class VGG(paddle.nn.Layer):\n",
    "    def __init__(self,vgg_net) -> None:\n",
    "        super(VGG,self).__init__()\n",
    "        self.conv = vgg_stack(vgg_net[0],vgg_net[1])\n",
    "        self.line = nn.Sequential(\n",
    "            nn.Linear(512*7*7,4096),\n",
    "            nn.ReLU(),\n",
    "            nn.Dropout(0.5),\n",
    "            nn.Linear(4096,4096),\n",
    "            nn.ReLU(),\n",
    "            nn.Dropout(0.5),\n",
    "            nn.Linear(4096,1)\n",
    "        )\n",
    "        \n",
    "    def forward(self,x):\n",
    "        x = self.conv(x)\n",
    "        x = paddle.flatten(x, 1, -1)\n",
    "        x = self.line(x)\n",
    "        return x"
   ]
  },
  {
   "cell_type": "code",
   "execution_count": 7,
   "metadata": {},
   "outputs": [],
   "source": [
    "xtemp = paddle.reshape(paddle.to_tensor(mydataset[0][0]),(1,-1,IMAGE_SIZE,IMAGE_SIZE))"
   ]
  },
  {
   "cell_type": "code",
   "execution_count": 8,
   "metadata": {},
   "outputs": [
    {
     "data": {
      "text/plain": [
       "Tensor(shape=[1, 3, 224, 224], dtype=float32, place=Place(gpu:0), stop_gradient=True,\n",
       "       [[[[0.        , 0.        , 0.        , ..., 0.        ,\n",
       "           0.        , 0.        ],\n",
       "          [0.        , 0.        , 0.        , ..., 0.        ,\n",
       "           0.        , 0.        ],\n",
       "          [0.        , 0.        , 0.        , ..., 0.        ,\n",
       "           0.        , 0.        ],\n",
       "          ...,\n",
       "          [0.21093750, 0.12109375, 0.36718750, ..., 0.        ,\n",
       "           0.        , 0.        ],\n",
       "          [0.        , 0.        , 0.        , ..., 0.21484375,\n",
       "           0.52734375, 0.35156250],\n",
       "          [0.20703125, 0.52343750, 0.34765625, ..., 0.19921875,\n",
       "           0.11328125, 0.37109375]],\n",
       "\n",
       "         [[0.20703125, 0.11718750, 0.35546875, ..., 0.        ,\n",
       "           0.        , 0.        ],\n",
       "          [0.        , 0.        , 0.        , ..., 0.20703125,\n",
       "           0.53125000, 0.35546875],\n",
       "          [0.21484375, 0.51562500, 0.34765625, ..., 0.17578125,\n",
       "           0.10546875, 0.39062500],\n",
       "          ...,\n",
       "          [0.14843750, 0.54296875, 0.28515625, ..., 0.21484375,\n",
       "           0.11328125, 0.33984375],\n",
       "          [0.21093750, 0.10546875, 0.33984375, ..., 0.        ,\n",
       "           0.        , 0.        ],\n",
       "          [0.        , 0.        , 0.        , ..., 0.15625000,\n",
       "           0.52343750, 0.29296875]],\n",
       "\n",
       "         [[0.15234375, 0.53125000, 0.28906250, ..., 0.22265625,\n",
       "           0.12109375, 0.33984375],\n",
       "          [0.21875000, 0.12109375, 0.33984375, ..., 0.        ,\n",
       "           0.        , 0.        ],\n",
       "          [0.        , 0.        , 0.        , ..., 0.15234375,\n",
       "           0.50390625, 0.28906250],\n",
       "          ...,\n",
       "          [0.        , 0.        , 0.        , ..., 0.        ,\n",
       "           0.        , 0.        ],\n",
       "          [0.        , 0.        , 0.        , ..., 0.        ,\n",
       "           0.        , 0.        ],\n",
       "          [0.        , 0.        , 0.        , ..., 0.        ,\n",
       "           0.        , 0.        ]]]])"
      ]
     },
     "execution_count": 8,
     "metadata": {},
     "output_type": "execute_result"
    }
   ],
   "source": [
    "xtemp"
   ]
  },
  {
   "cell_type": "code",
   "execution_count": 18,
   "metadata": {},
   "outputs": [
    {
     "data": {
      "text/plain": [
       "Tensor(shape=[1, 2, 112, 112], dtype=float32, place=Place(gpu:0), stop_gradient=False,\n",
       "       [[[[0.13676271, 0.        , 0.14152804, ..., 0.        ,\n",
       "           0.        , 0.        ],\n",
       "          [0.04784188, 0.        , 0.06437561, ..., 0.06340392,\n",
       "           0.        , 0.10726637],\n",
       "          [0.        , 0.        , 0.        , ..., 0.07173494,\n",
       "           0.        , 0.08481816],\n",
       "          ...,\n",
       "          [0.07818490, 0.25637057, 0.23291185, ..., 0.39956993,\n",
       "           0.39525646, 0.25941703],\n",
       "          [0.23876809, 0.36451370, 0.13031682, ..., 0.02801993,\n",
       "           0.25859800, 0.26548719],\n",
       "          [0.29248589, 0.53420007, 0.24558130, ..., 0.37744570,\n",
       "           0.36665297, 0.22346997]],\n",
       "\n",
       "         [[0.20554818, 0.08493575, 0.20039070, ..., 0.56644416,\n",
       "           0.55475503, 0.11925802],\n",
       "          [0.31906304, 0.53919768, 0.27188921, ..., 0.29144180,\n",
       "           0.13819334, 0.29434907],\n",
       "          [0.31809121, 0.50931019, 0.20628865, ..., 0.54256845,\n",
       "           0.53975648, 0.25739893],\n",
       "          ...,\n",
       "          [0.64406139, 0.53267539, 0.62185341, ..., 0.61975771,\n",
       "           0.28888434, 0.64053506],\n",
       "          [0.43621731, 0.53071719, 0.        , ..., 0.62498909,\n",
       "           0.55315119, 0.64743769],\n",
       "          [0.64819223, 0.30710366, 0.62286663, ..., 0.54500991,\n",
       "           0.55025190, 0.13135561]]]])"
      ]
     },
     "execution_count": 18,
     "metadata": {},
     "output_type": "execute_result"
    }
   ],
   "source": [
    "net = vgg_block(1,3,2)\n",
    "net(xtemp)"
   ]
  },
  {
   "cell_type": "code",
   "execution_count": 35,
   "metadata": {},
   "outputs": [
    {
     "data": {
      "text/plain": [
       "Tensor(shape=[1, 512, 7, 7], dtype=float32, place=Place(gpu:0), stop_gradient=False,\n",
       "       [[[[0.        , 0.        , 0.        , ..., 0.        ,\n",
       "           0.        , 0.        ],\n",
       "          [0.        , 0.        , 0.        , ..., 0.        ,\n",
       "           0.        , 0.        ],\n",
       "          [0.        , 0.        , 0.        , ..., 0.        ,\n",
       "           0.        , 0.        ],\n",
       "          ...,\n",
       "          [0.        , 0.        , 0.        , ..., 0.        ,\n",
       "           0.        , 0.        ],\n",
       "          [0.00945184, 0.        , 0.        , ..., 0.        ,\n",
       "           0.        , 0.        ],\n",
       "          [0.        , 0.        , 0.        , ..., 0.        ,\n",
       "           0.        , 0.        ]],\n",
       "\n",
       "         [[0.        , 0.        , 0.03658355, ..., 0.06424876,\n",
       "           0.00473395, 0.16345757],\n",
       "          [0.        , 0.        , 0.        , ..., 0.        ,\n",
       "           0.        , 0.        ],\n",
       "          [0.        , 0.        , 0.        , ..., 0.        ,\n",
       "           0.        , 0.        ],\n",
       "          ...,\n",
       "          [0.        , 0.        , 0.        , ..., 0.        ,\n",
       "           0.        , 0.        ],\n",
       "          [0.        , 0.        , 0.        , ..., 0.        ,\n",
       "           0.        , 0.        ],\n",
       "          [0.        , 0.        , 0.        , ..., 0.        ,\n",
       "           0.        , 0.08257985]],\n",
       "\n",
       "         [[0.28596044, 0.53898340, 0.41805905, ..., 0.49303871,\n",
       "           0.45432290, 0.71795869],\n",
       "          [0.34959984, 0.74954933, 0.73547810, ..., 0.78664756,\n",
       "           0.79184157, 0.77831495],\n",
       "          [0.46811911, 0.99051374, 0.92413110, ..., 1.09531701,\n",
       "           0.95508784, 0.90742880],\n",
       "          ...,\n",
       "          [0.40522432, 0.99553281, 0.93520409, ..., 0.90419281,\n",
       "           0.89420271, 0.87779427],\n",
       "          [0.38449323, 1.00144517, 1.00310564, ..., 0.97572529,\n",
       "           0.91872078, 0.78775728],\n",
       "          [0.61522084, 0.79996651, 0.87696970, ..., 0.76524591,\n",
       "           0.69217229, 0.42629483]],\n",
       "\n",
       "         ...,\n",
       "\n",
       "         [[0.26584789, 0.12967184, 0.10543728, ..., 0.09007760,\n",
       "           0.17503610, 0.        ],\n",
       "          [0.16423953, 0.        , 0.        , ..., 0.        ,\n",
       "           0.        , 0.07319450],\n",
       "          [0.16169325, 0.        , 0.        , ..., 0.        ,\n",
       "           0.        , 0.14289513],\n",
       "          ...,\n",
       "          [0.        , 0.        , 0.        , ..., 0.        ,\n",
       "           0.        , 0.09600715],\n",
       "          [0.        , 0.        , 0.        , ..., 0.        ,\n",
       "           0.        , 0.07328497],\n",
       "          [0.05936143, 0.01339283, 0.        , ..., 0.        ,\n",
       "           0.        , 0.12529980]],\n",
       "\n",
       "         [[0.05269789, 0.14068143, 0.        , ..., 0.00687599,\n",
       "           0.03618448, 0.09424789],\n",
       "          [0.        , 0.        , 0.        , ..., 0.        ,\n",
       "           0.        , 0.        ],\n",
       "          [0.03709325, 0.        , 0.        , ..., 0.        ,\n",
       "           0.        , 0.        ],\n",
       "          ...,\n",
       "          [0.02840063, 0.        , 0.        , ..., 0.        ,\n",
       "           0.        , 0.        ],\n",
       "          [0.        , 0.        , 0.        , ..., 0.        ,\n",
       "           0.        , 0.        ],\n",
       "          [0.        , 0.        , 0.        , ..., 0.        ,\n",
       "           0.        , 0.        ]],\n",
       "\n",
       "         [[0.29037631, 0.19079918, 0.30317128, ..., 0.34141785,\n",
       "           0.25838876, 0.25894821],\n",
       "          [0.24865952, 0.42884517, 0.52083540, ..., 0.39208663,\n",
       "           0.34638628, 0.42069387],\n",
       "          [0.26115546, 0.42020434, 0.36394233, ..., 0.34623685,\n",
       "           0.32115871, 0.38677853],\n",
       "          ...,\n",
       "          [0.21672937, 0.48060593, 0.49652550, ..., 0.36927983,\n",
       "           0.26786473, 0.34326130],\n",
       "          [0.17473584, 0.36543590, 0.51719654, ..., 0.37837940,\n",
       "           0.34492701, 0.34993067],\n",
       "          [0.12878127, 0.41654056, 0.52263278, ..., 0.41299623,\n",
       "           0.42242518, 0.27063876]]]])"
      ]
     },
     "execution_count": 35,
     "metadata": {},
     "output_type": "execute_result"
    }
   ],
   "source": [
    "net = vgg_stack([2,2,3,3,3], [[3,64],[64,128],[128,256],[256,512],[512,512]])\n",
    "net(xtemp)"
   ]
  },
  {
   "cell_type": "code",
   "execution_count": 5,
   "metadata": {},
   "outputs": [
    {
     "name": "stderr",
     "output_type": "stream",
     "text": [
      "W0203 11:01:46.058907 74870 gpu_resources.cc:61] Please NOTE: device: 0, GPU Compute Capability: 6.1, Driver API Version: 12.0, Runtime API Version: 11.7\n",
      "W0203 11:01:46.069173 74870 gpu_resources.cc:91] device: 0, cuDNN Version: 8.7.\n"
     ]
    },
    {
     "name": "stdout",
     "output_type": "stream",
     "text": [
      "---------------------------------------------------------------------------\n",
      " Layer (type)       Input Shape          Output Shape         Param #    \n",
      "===========================================================================\n",
      "   Conv2D-1      [[1, 3, 224, 224]]   [1, 64, 224, 224]        1,792     \n",
      "    ReLU-1      [[1, 64, 224, 224]]   [1, 64, 224, 224]          0       \n",
      "   Conv2D-2     [[1, 64, 224, 224]]   [1, 64, 224, 224]       36,928     \n",
      "    ReLU-2      [[1, 64, 224, 224]]   [1, 64, 224, 224]          0       \n",
      "  MaxPool2D-1   [[1, 64, 224, 224]]   [1, 64, 112, 112]          0       \n",
      "   Conv2D-3     [[1, 64, 112, 112]]   [1, 128, 112, 112]      73,856     \n",
      "    ReLU-3      [[1, 128, 112, 112]]  [1, 128, 112, 112]         0       \n",
      "   Conv2D-4     [[1, 128, 112, 112]]  [1, 128, 112, 112]      147,584    \n",
      "    ReLU-4      [[1, 128, 112, 112]]  [1, 128, 112, 112]         0       \n",
      "  MaxPool2D-2   [[1, 128, 112, 112]]   [1, 128, 56, 56]          0       \n",
      "   Conv2D-5      [[1, 128, 56, 56]]    [1, 256, 56, 56]       295,168    \n",
      "    ReLU-5       [[1, 256, 56, 56]]    [1, 256, 56, 56]          0       \n",
      "   Conv2D-6      [[1, 256, 56, 56]]    [1, 256, 56, 56]       590,080    \n",
      "    ReLU-6       [[1, 256, 56, 56]]    [1, 256, 56, 56]          0       \n",
      "   Conv2D-7      [[1, 256, 56, 56]]    [1, 256, 56, 56]       590,080    \n",
      "    ReLU-7       [[1, 256, 56, 56]]    [1, 256, 56, 56]          0       \n",
      "  MaxPool2D-3    [[1, 256, 56, 56]]    [1, 256, 28, 28]          0       \n",
      "   Conv2D-8      [[1, 256, 28, 28]]    [1, 512, 28, 28]      1,180,160   \n",
      "    ReLU-8       [[1, 512, 28, 28]]    [1, 512, 28, 28]          0       \n",
      "   Conv2D-9      [[1, 512, 28, 28]]    [1, 512, 28, 28]      2,359,808   \n",
      "    ReLU-9       [[1, 512, 28, 28]]    [1, 512, 28, 28]          0       \n",
      "   Conv2D-10     [[1, 512, 28, 28]]    [1, 512, 28, 28]      2,359,808   \n",
      "    ReLU-10      [[1, 512, 28, 28]]    [1, 512, 28, 28]          0       \n",
      "  MaxPool2D-4    [[1, 512, 28, 28]]    [1, 512, 14, 14]          0       \n",
      "   Conv2D-11     [[1, 512, 14, 14]]    [1, 512, 14, 14]      2,359,808   \n",
      "    ReLU-11      [[1, 512, 14, 14]]    [1, 512, 14, 14]          0       \n",
      "   Conv2D-12     [[1, 512, 14, 14]]    [1, 512, 14, 14]      2,359,808   \n",
      "    ReLU-12      [[1, 512, 14, 14]]    [1, 512, 14, 14]          0       \n",
      "   Conv2D-13     [[1, 512, 14, 14]]    [1, 512, 14, 14]      2,359,808   \n",
      "    ReLU-13      [[1, 512, 14, 14]]    [1, 512, 14, 14]          0       \n",
      "  MaxPool2D-5    [[1, 512, 14, 14]]     [1, 512, 7, 7]           0       \n",
      "   Linear-1         [[1, 25088]]          [1, 4096]         102,764,544  \n",
      "    ReLU-14         [[1, 4096]]           [1, 4096]              0       \n",
      "   Dropout-1        [[1, 4096]]           [1, 4096]              0       \n",
      "   Linear-2         [[1, 4096]]           [1, 4096]         16,781,312   \n",
      "    ReLU-15         [[1, 4096]]           [1, 4096]              0       \n",
      "   Dropout-2        [[1, 4096]]           [1, 4096]              0       \n",
      "   Linear-3         [[1, 4096]]             [1, 1]             4,097     \n",
      "===========================================================================\n",
      "Total params: 134,264,641\n",
      "Trainable params: 134,264,641\n",
      "Non-trainable params: 0\n",
      "---------------------------------------------------------------------------\n",
      "Input size (MB): 0.57\n",
      "Forward/backward pass size (MB): 218.58\n",
      "Params size (MB): 512.18\n",
      "Estimated Total Size (MB): 731.34\n",
      "---------------------------------------------------------------------------\n",
      "\n"
     ]
    },
    {
     "data": {
      "text/plain": [
       "{'total_params': 134264641, 'trainable_params': 134264641}"
      ]
     },
     "execution_count": 5,
     "metadata": {},
     "output_type": "execute_result"
    }
   ],
   "source": [
    "paddle.summary(net=VGG([[2,2,3,3,3], [[3,64],[64,128],[128,256],[256,512],[512,512]]]),input_size=(1,3,224,224))"
   ]
  },
  {
   "cell_type": "code",
   "execution_count": 11,
   "metadata": {},
   "outputs": [
    {
     "ename": "ValueError",
     "evalue": "mode argument should be 'downscale_in_infer' or 'upscale_in_train'",
     "output_type": "error",
     "traceback": [
      "\u001b[0;31m---------------------------------------------------------------------------\u001b[0m",
      "\u001b[0;31mValueError\u001b[0m                                Traceback (most recent call last)",
      "Cell \u001b[0;32mIn[11], line 2\u001b[0m\n\u001b[1;32m      1\u001b[0m net \u001b[39m=\u001b[39m VGG([[\u001b[39m2\u001b[39m,\u001b[39m2\u001b[39m,\u001b[39m3\u001b[39m,\u001b[39m3\u001b[39m,\u001b[39m3\u001b[39m], [[\u001b[39m3\u001b[39m,\u001b[39m64\u001b[39m],[\u001b[39m64\u001b[39m,\u001b[39m128\u001b[39m],[\u001b[39m128\u001b[39m,\u001b[39m256\u001b[39m],[\u001b[39m256\u001b[39m,\u001b[39m512\u001b[39m],[\u001b[39m512\u001b[39m,\u001b[39m512\u001b[39m]]])\n\u001b[0;32m----> 2\u001b[0m net(xtemp)\n",
      "File \u001b[0;32m~/anaconda3/envs/globalenv/lib/python3.10/site-packages/paddle/fluid/dygraph/layers.py:948\u001b[0m, in \u001b[0;36mLayer.__call__\u001b[0;34m(self, *inputs, **kwargs)\u001b[0m\n\u001b[1;32m    945\u001b[0m \u001b[39mif\u001b[39;00m (\u001b[39mnot\u001b[39;00m in_declarative_mode()) \u001b[39mand\u001b[39;00m (\u001b[39mnot\u001b[39;00m \u001b[39mself\u001b[39m\u001b[39m.\u001b[39m_forward_pre_hooks) \\\n\u001b[1;32m    946\u001b[0m     \u001b[39mand\u001b[39;00m (\u001b[39mnot\u001b[39;00m \u001b[39mself\u001b[39m\u001b[39m.\u001b[39m_forward_post_hooks) \u001b[39mand\u001b[39;00m (\u001b[39mnot\u001b[39;00m \u001b[39mself\u001b[39m\u001b[39m.\u001b[39m_built) \u001b[39mand\u001b[39;00m in_dygraph_mode() \u001b[39mand\u001b[39;00m (\u001b[39mnot\u001b[39;00m in_profiler_mode()):\n\u001b[1;32m    947\u001b[0m     \u001b[39mself\u001b[39m\u001b[39m.\u001b[39m_build_once(\u001b[39m*\u001b[39minputs, \u001b[39m*\u001b[39m\u001b[39m*\u001b[39mkwargs)\n\u001b[0;32m--> 948\u001b[0m     \u001b[39mreturn\u001b[39;00m \u001b[39mself\u001b[39;49m\u001b[39m.\u001b[39;49mforward(\u001b[39m*\u001b[39;49minputs, \u001b[39m*\u001b[39;49m\u001b[39m*\u001b[39;49mkwargs)\n\u001b[1;32m    949\u001b[0m \u001b[39melse\u001b[39;00m:\n\u001b[1;32m    950\u001b[0m     \u001b[39mreturn\u001b[39;00m \u001b[39mself\u001b[39m\u001b[39m.\u001b[39m_dygraph_call_func(\u001b[39m*\u001b[39minputs, \u001b[39m*\u001b[39m\u001b[39m*\u001b[39mkwargs)\n",
      "Cell \u001b[0;32mIn[10], line 35\u001b[0m, in \u001b[0;36mVGG.forward\u001b[0;34m(self, x)\u001b[0m\n\u001b[1;32m     33\u001b[0m x \u001b[39m=\u001b[39m \u001b[39mself\u001b[39m\u001b[39m.\u001b[39mconv(x)\n\u001b[1;32m     34\u001b[0m x \u001b[39m=\u001b[39m paddle\u001b[39m.\u001b[39mflatten(x, \u001b[39m1\u001b[39m, \u001b[39m-\u001b[39m\u001b[39m1\u001b[39m)\n\u001b[0;32m---> 35\u001b[0m x \u001b[39m=\u001b[39m \u001b[39mself\u001b[39;49m\u001b[39m.\u001b[39;49mline(x)\n\u001b[1;32m     36\u001b[0m \u001b[39mreturn\u001b[39;00m x\n",
      "File \u001b[0;32m~/anaconda3/envs/globalenv/lib/python3.10/site-packages/paddle/fluid/dygraph/layers.py:948\u001b[0m, in \u001b[0;36mLayer.__call__\u001b[0;34m(self, *inputs, **kwargs)\u001b[0m\n\u001b[1;32m    945\u001b[0m \u001b[39mif\u001b[39;00m (\u001b[39mnot\u001b[39;00m in_declarative_mode()) \u001b[39mand\u001b[39;00m (\u001b[39mnot\u001b[39;00m \u001b[39mself\u001b[39m\u001b[39m.\u001b[39m_forward_pre_hooks) \\\n\u001b[1;32m    946\u001b[0m     \u001b[39mand\u001b[39;00m (\u001b[39mnot\u001b[39;00m \u001b[39mself\u001b[39m\u001b[39m.\u001b[39m_forward_post_hooks) \u001b[39mand\u001b[39;00m (\u001b[39mnot\u001b[39;00m \u001b[39mself\u001b[39m\u001b[39m.\u001b[39m_built) \u001b[39mand\u001b[39;00m in_dygraph_mode() \u001b[39mand\u001b[39;00m (\u001b[39mnot\u001b[39;00m in_profiler_mode()):\n\u001b[1;32m    947\u001b[0m     \u001b[39mself\u001b[39m\u001b[39m.\u001b[39m_build_once(\u001b[39m*\u001b[39minputs, \u001b[39m*\u001b[39m\u001b[39m*\u001b[39mkwargs)\n\u001b[0;32m--> 948\u001b[0m     \u001b[39mreturn\u001b[39;00m \u001b[39mself\u001b[39;49m\u001b[39m.\u001b[39;49mforward(\u001b[39m*\u001b[39;49minputs, \u001b[39m*\u001b[39;49m\u001b[39m*\u001b[39;49mkwargs)\n\u001b[1;32m    949\u001b[0m \u001b[39melse\u001b[39;00m:\n\u001b[1;32m    950\u001b[0m     \u001b[39mreturn\u001b[39;00m \u001b[39mself\u001b[39m\u001b[39m.\u001b[39m_dygraph_call_func(\u001b[39m*\u001b[39minputs, \u001b[39m*\u001b[39m\u001b[39m*\u001b[39mkwargs)\n",
      "File \u001b[0;32m~/anaconda3/envs/globalenv/lib/python3.10/site-packages/paddle/fluid/dygraph/container.py:98\u001b[0m, in \u001b[0;36mSequential.forward\u001b[0;34m(self, input)\u001b[0m\n\u001b[1;32m     96\u001b[0m \u001b[39mdef\u001b[39;00m \u001b[39mforward\u001b[39m(\u001b[39mself\u001b[39m, \u001b[39minput\u001b[39m):\n\u001b[1;32m     97\u001b[0m     \u001b[39mfor\u001b[39;00m layer \u001b[39min\u001b[39;00m \u001b[39mself\u001b[39m\u001b[39m.\u001b[39m_sub_layers\u001b[39m.\u001b[39mvalues():\n\u001b[0;32m---> 98\u001b[0m         \u001b[39minput\u001b[39m \u001b[39m=\u001b[39m layer(\u001b[39minput\u001b[39;49m)\n\u001b[1;32m     99\u001b[0m     \u001b[39mreturn\u001b[39;00m \u001b[39minput\u001b[39m\n",
      "File \u001b[0;32m~/anaconda3/envs/globalenv/lib/python3.10/site-packages/paddle/fluid/dygraph/layers.py:948\u001b[0m, in \u001b[0;36mLayer.__call__\u001b[0;34m(self, *inputs, **kwargs)\u001b[0m\n\u001b[1;32m    945\u001b[0m \u001b[39mif\u001b[39;00m (\u001b[39mnot\u001b[39;00m in_declarative_mode()) \u001b[39mand\u001b[39;00m (\u001b[39mnot\u001b[39;00m \u001b[39mself\u001b[39m\u001b[39m.\u001b[39m_forward_pre_hooks) \\\n\u001b[1;32m    946\u001b[0m     \u001b[39mand\u001b[39;00m (\u001b[39mnot\u001b[39;00m \u001b[39mself\u001b[39m\u001b[39m.\u001b[39m_forward_post_hooks) \u001b[39mand\u001b[39;00m (\u001b[39mnot\u001b[39;00m \u001b[39mself\u001b[39m\u001b[39m.\u001b[39m_built) \u001b[39mand\u001b[39;00m in_dygraph_mode() \u001b[39mand\u001b[39;00m (\u001b[39mnot\u001b[39;00m in_profiler_mode()):\n\u001b[1;32m    947\u001b[0m     \u001b[39mself\u001b[39m\u001b[39m.\u001b[39m_build_once(\u001b[39m*\u001b[39minputs, \u001b[39m*\u001b[39m\u001b[39m*\u001b[39mkwargs)\n\u001b[0;32m--> 948\u001b[0m     \u001b[39mreturn\u001b[39;00m \u001b[39mself\u001b[39;49m\u001b[39m.\u001b[39;49mforward(\u001b[39m*\u001b[39;49minputs, \u001b[39m*\u001b[39;49m\u001b[39m*\u001b[39;49mkwargs)\n\u001b[1;32m    949\u001b[0m \u001b[39melse\u001b[39;00m:\n\u001b[1;32m    950\u001b[0m     \u001b[39mreturn\u001b[39;00m \u001b[39mself\u001b[39m\u001b[39m.\u001b[39m_dygraph_call_func(\u001b[39m*\u001b[39minputs, \u001b[39m*\u001b[39m\u001b[39m*\u001b[39mkwargs)\n",
      "File \u001b[0;32m~/anaconda3/envs/globalenv/lib/python3.10/site-packages/paddle/nn/layer/common.py:765\u001b[0m, in \u001b[0;36mDropout.forward\u001b[0;34m(self, input)\u001b[0m\n\u001b[1;32m    764\u001b[0m \u001b[39mdef\u001b[39;00m \u001b[39mforward\u001b[39m(\u001b[39mself\u001b[39m, \u001b[39minput\u001b[39m):\n\u001b[0;32m--> 765\u001b[0m     out \u001b[39m=\u001b[39m F\u001b[39m.\u001b[39;49mdropout(\n\u001b[1;32m    766\u001b[0m         \u001b[39minput\u001b[39;49m,\n\u001b[1;32m    767\u001b[0m         p\u001b[39m=\u001b[39;49m\u001b[39mself\u001b[39;49m\u001b[39m.\u001b[39;49mp,\n\u001b[1;32m    768\u001b[0m         axis\u001b[39m=\u001b[39;49m\u001b[39mself\u001b[39;49m\u001b[39m.\u001b[39;49maxis,\n\u001b[1;32m    769\u001b[0m         training\u001b[39m=\u001b[39;49m\u001b[39mself\u001b[39;49m\u001b[39m.\u001b[39;49mtraining,\n\u001b[1;32m    770\u001b[0m         mode\u001b[39m=\u001b[39;49m\u001b[39mself\u001b[39;49m\u001b[39m.\u001b[39;49mmode,\n\u001b[1;32m    771\u001b[0m         name\u001b[39m=\u001b[39;49m\u001b[39mself\u001b[39;49m\u001b[39m.\u001b[39;49mname,\n\u001b[1;32m    772\u001b[0m     )\n\u001b[1;32m    773\u001b[0m     \u001b[39mreturn\u001b[39;00m out\n",
      "File \u001b[0;32m~/anaconda3/envs/globalenv/lib/python3.10/site-packages/paddle/nn/functional/common.py:1117\u001b[0m, in \u001b[0;36mdropout\u001b[0;34m(x, p, axis, training, mode, name)\u001b[0m\n\u001b[1;32m   1115\u001b[0m         \u001b[39mraise\u001b[39;00m \u001b[39mValueError\u001b[39;00m(\u001b[39m\"\u001b[39m\u001b[39mp argument should between 0 and 1\u001b[39m\u001b[39m\"\u001b[39m)\n\u001b[1;32m   1116\u001b[0m \u001b[39mif\u001b[39;00m mode \u001b[39mnot\u001b[39;00m \u001b[39min\u001b[39;00m (\u001b[39m'\u001b[39m\u001b[39mdownscale_in_infer\u001b[39m\u001b[39m'\u001b[39m, \u001b[39m'\u001b[39m\u001b[39mupscale_in_train\u001b[39m\u001b[39m'\u001b[39m):\n\u001b[0;32m-> 1117\u001b[0m     \u001b[39mraise\u001b[39;00m \u001b[39mValueError\u001b[39;00m(\n\u001b[1;32m   1118\u001b[0m         \u001b[39m\"\u001b[39m\u001b[39mmode argument should be \u001b[39m\u001b[39m'\u001b[39m\u001b[39mdownscale_in_infer\u001b[39m\u001b[39m'\u001b[39m\u001b[39m or \u001b[39m\u001b[39m'\u001b[39m\u001b[39mupscale_in_train\u001b[39m\u001b[39m'\u001b[39m\u001b[39m\"\u001b[39m\n\u001b[1;32m   1119\u001b[0m     )\n\u001b[1;32m   1120\u001b[0m \u001b[39mif\u001b[39;00m axis \u001b[39mand\u001b[39;00m \u001b[39mnot\u001b[39;00m \u001b[39misinstance\u001b[39m(axis, (\u001b[39mint\u001b[39m, \u001b[39mlist\u001b[39m, \u001b[39mtuple\u001b[39m)):\n\u001b[1;32m   1121\u001b[0m     \u001b[39mraise\u001b[39;00m \u001b[39mTypeError\u001b[39;00m(\u001b[39m\"\u001b[39m\u001b[39mdatatype of axis argument should be int or list\u001b[39m\u001b[39m\"\u001b[39m)\n",
      "\u001b[0;31mValueError\u001b[0m: mode argument should be 'downscale_in_infer' or 'upscale_in_train'"
     ]
    }
   ],
   "source": [
    "net = VGG([[2,2,3,3,3], [[3,64],[64,128],[128,256],[256,512],[512,512]]])\n",
    "net(xtemp)"
   ]
  },
  {
   "cell_type": "code",
   "execution_count": null,
   "metadata": {},
   "outputs": [
    {
     "ename": "",
     "evalue": "",
     "output_type": "error",
     "traceback": [
      "\u001b[1;31mCanceled future for execute_request message before replies were done"
     ]
    },
    {
     "ename": "",
     "evalue": "",
     "output_type": "error",
     "traceback": [
      "\u001b[1;31mThe Kernel crashed while executing code in the the current cell or a previous cell. Please review the code in the cell(s) to identify a possible cause of the failure. Click <a href='https://aka.ms/vscodeJupyterKernelCrash'>here</a> for more info. View Jupyter <a href='command:jupyter.viewOutput'>log</a> for further details."
     ]
    }
   ],
   "source": [
    "line = nn.Sequential(\n",
    "    nn.Linear(512*7*7,4096),\n",
    "    nn.ReLU(),\n",
    "    nn.Dropout(0.5,mode='up_scale_train'),\n",
    "    nn.Linear(4096,4096),\n",
    "    nn.ReLU(),\n",
    "    nn.Dropout(0.5,mode='up_scale_train'),\n",
    "    nn.Linear(4096,1)\n",
    ")\n",
    "line()"
   ]
  }
 ],
 "metadata": {
  "kernelspec": {
   "display_name": "base",
   "language": "python",
   "name": "python3"
  },
  "language_info": {
   "codemirror_mode": {
    "name": "ipython",
    "version": 3
   },
   "file_extension": ".py",
   "mimetype": "text/x-python",
   "name": "python",
   "nbconvert_exporter": "python",
   "pygments_lexer": "ipython3",
   "version": "3.10.8"
  },
  "orig_nbformat": 4,
  "vscode": {
   "interpreter": {
    "hash": "ec69b73d0a6985895cc9f85863fd33c600647e90f46968e0f1901acb27b9505b"
   }
  }
 },
 "nbformat": 4,
 "nbformat_minor": 2
}
