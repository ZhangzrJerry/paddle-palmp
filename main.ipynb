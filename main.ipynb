{
 "cells": [
  {
   "cell_type": "code",
   "execution_count": 1,
   "metadata": {
    "execution": {
     "iopub.execute_input": "2023-02-03T07:29:43.841341Z",
     "iopub.status.busy": "2023-02-03T07:29:43.840427Z",
     "iopub.status.idle": "2023-02-03T07:29:45.916636Z",
     "shell.execute_reply": "2023-02-03T07:29:45.915790Z",
     "shell.execute_reply.started": "2023-02-03T07:29:43.841309Z"
    },
    "scrolled": true,
    "tags": []
   },
   "outputs": [
    {
     "name": "stdout",
     "output_type": "stream",
     "text": [
      "2.4.1\n"
     ]
    }
   ],
   "source": [
    "import paddle\n",
    "import paddle.nn.functional as F\n",
    "import numpy as np\n",
    "import pandas as pd\n",
    "import os\n",
    "from paddle import nn\n",
    "from PIL import Image\n",
    "from paddle.distributed import fleet, get_rank\n",
    "\n",
    "IMAGE_SIZE = 224\n",
    "BATCH_SIZE = 4\n",
    "EPOCH_NUM = 5\n",
    "\n",
    "print(paddle.__version__)"
   ]
  },
  {
   "cell_type": "code",
   "execution_count": 2,
   "metadata": {
    "execution": {
     "iopub.execute_input": "2023-02-03T07:31:29.272547Z",
     "iopub.status.busy": "2023-02-03T07:31:29.271950Z",
     "iopub.status.idle": "2023-02-03T07:31:29.283702Z",
     "shell.execute_reply": "2023-02-03T07:31:29.282943Z",
     "shell.execute_reply.started": "2023-02-03T07:31:29.272513Z"
    },
    "scrolled": true,
    "tags": []
   },
   "outputs": [],
   "source": [
    "# 定义数据集\n",
    "class MyDataset(paddle.io.Dataset):\n",
    "    def __init__(self, img_dir='data/PALM-Training400/', csv_dir='data/Classification.csv') -> None:\n",
    "        super(MyDataset, self).__init__()\n",
    "        if csv_dir is None:\n",
    "            self.csvfile = None\n",
    "            self.filedir = os.listdir(img_dir)\n",
    "        else:\n",
    "            self.csvfile = pd.read_csv(csv_dir)\n",
    "        self.imgpath = img_dir\n",
    "        pass\n",
    "    def __len__(self):\n",
    "        if self.csvfile is None:\n",
    "            return len(self.filedir)\n",
    "        else:\n",
    "            return len(self.csvfile)\n",
    "        pass\n",
    "    def __getitem__(self, idx):\n",
    "        if self.csvfile is None:\n",
    "            img = np.reshape((np.array(Image.open(self.imgpath+os.sep+self.filedir[idx]).resize((IMAGE_SIZE,IMAGE_SIZE))).astype('float32')),(3,IMAGE_SIZE,IMAGE_SIZE))/256.\n",
    "            lab = self.filedir[idx]\n",
    "        else:\n",
    "            img = np.reshape((np.array(Image.open(self.imgpath+os.sep+self.csvfile['imgName'][idx]).resize((IMAGE_SIZE,IMAGE_SIZE))).astype('float32')),(3,IMAGE_SIZE,IMAGE_SIZE))/256.\n",
    "            lab = np.array(self.csvfile['Label'][idx]).astype('float32')\n",
    "        return img,lab\n",
    "    pass\n",
    "mydataset = MyDataset()"
   ]
  },
  {
   "cell_type": "code",
   "execution_count": 3,
   "metadata": {
    "execution": {
     "iopub.execute_input": "2023-02-03T07:29:47.007713Z",
     "iopub.status.busy": "2023-02-03T07:29:47.006744Z",
     "iopub.status.idle": "2023-02-03T07:29:48.508882Z",
     "shell.execute_reply": "2023-02-03T07:29:48.508026Z",
     "shell.execute_reply.started": "2023-02-03T07:29:47.007677Z"
    },
    "scrolled": true,
    "tags": []
   },
   "outputs": [
    {
     "name": "stderr",
     "output_type": "stream",
     "text": [
      "W0203 20:42:45.433202 358030 gpu_resources.cc:61] Please NOTE: device: 0, GPU Compute Capability: 6.1, Driver API Version: 12.0, Runtime API Version: 11.7\n",
      "W0203 20:42:45.452216 358030 gpu_resources.cc:91] device: 0, cuDNN Version: 8.7.\n"
     ]
    }
   ],
   "source": [
    "import paddle\n",
    "import numpy as np\n",
    "from paddle.nn import Conv2D, MaxPool2D, Linear, Dropout\n",
    "## 组网\n",
    "import paddle.nn.functional as F\n",
    "\n",
    "# 定义 AlexNet 网络结构\n",
    "class AlexNet(paddle.nn.Layer):\n",
    "    def __init__(self, num_classes=1):\n",
    "        super(AlexNet, self).__init__()\n",
    "        # AlexNet与LeNet一样也会同时使用卷积和池化层提取图像特征\n",
    "        # 与LeNet不同的是激活函数换成了‘relu’\n",
    "        self.conv1 = Conv2D(in_channels=3, out_channels=96, kernel_size=11, stride=4, padding=5)\n",
    "        self.max_pool1 = MaxPool2D(kernel_size=2, stride=2)\n",
    "        self.conv2 = Conv2D(in_channels=96, out_channels=256, kernel_size=5, stride=1, padding=2)\n",
    "        self.max_pool2 = MaxPool2D(kernel_size=2, stride=2)\n",
    "        self.conv3 = Conv2D(in_channels=256, out_channels=384, kernel_size=3, stride=1, padding=1)\n",
    "        self.conv4 = Conv2D(in_channels=384, out_channels=384, kernel_size=3, stride=1, padding=1)\n",
    "        self.conv5 = Conv2D(in_channels=384, out_channels=256, kernel_size=3, stride=1, padding=1)\n",
    "        self.max_pool5 = MaxPool2D(kernel_size=2, stride=2)\n",
    "\n",
    "        self.fc1 = Linear(in_features=12544, out_features=4096)\n",
    "        self.drop_ratio1 = 0.5\n",
    "        self.drop1 = Dropout(self.drop_ratio1)\n",
    "        self.fc2 = Linear(in_features=4096, out_features=4096)\n",
    "        self.drop_ratio2 = 0.5\n",
    "        self.drop2 = Dropout(self.drop_ratio2)\n",
    "        self.fc3 = Linear(in_features=4096, out_features=num_classes)\n",
    "    \n",
    "    def forward(self, x):\n",
    "        x = self.conv1(x)\n",
    "        x = F.relu(x)\n",
    "        x = self.max_pool1(x)\n",
    "        x = self.conv2(x)\n",
    "        x = F.relu(x)\n",
    "        x = self.max_pool2(x)\n",
    "        x = self.conv3(x)\n",
    "        x = F.relu(x)\n",
    "        x = self.conv4(x)\n",
    "        x = F.relu(x)\n",
    "        x = self.conv5(x)\n",
    "        x = F.relu(x)\n",
    "        x = self.max_pool5(x)\n",
    "        x = paddle.reshape(x, [x.shape[0], -1])\n",
    "        x = self.fc1(x)\n",
    "        x = F.relu(x)\n",
    "        # 在全连接之后使用dropout抑制过拟合\n",
    "        x = self.drop1(x)\n",
    "        x = self.fc2(x)\n",
    "        x = F.relu(x)\n",
    "        # 在全连接之后使用dropout抑制过拟合\n",
    "        x = self.drop2(x)\n",
    "        x = self.fc3(x)\n",
    "        return x\n",
    "model = AlexNet()"
   ]
  },
  {
   "cell_type": "code",
   "execution_count": 4,
   "metadata": {
    "execution": {
     "iopub.execute_input": "2023-02-03T06:55:36.679232Z",
     "iopub.status.busy": "2023-02-03T06:55:36.678631Z",
     "iopub.status.idle": "2023-02-03T06:55:36.691230Z",
     "shell.execute_reply": "2023-02-03T06:55:36.690326Z",
     "shell.execute_reply.started": "2023-02-03T06:55:36.679188Z"
    },
    "scrolled": true,
    "tags": []
   },
   "outputs": [],
   "source": [
    "def train_pm(model, optimizer):\n",
    "    # 开启0号GPU训练\n",
    "    paddle.device.set_device('gpu:0')\n",
    "\n",
    "    print('start training ... ')\n",
    "    model.train()\n",
    "    # 定义数据读取器，训练数据读取器和验证数据读取器\n",
    "    train_loader = paddle.io.DataLoader(mydataset,batch_size=BATCH_SIZE,shuffle=True,drop_last=True)\n",
    "    valid_loader = paddle.io.DataLoader(mydataset,batch_size=BATCH_SIZE,shuffle=True,drop_last=True)\n",
    "    for epoch in range(EPOCH_NUM):\n",
    "        for batch_id, data in enumerate(train_loader()):\n",
    "            x_data, y_data = data\n",
    "            img = paddle.to_tensor(x_data)\n",
    "            label = paddle.reshape(paddle.to_tensor(y_data),(-1,1))\n",
    "            # 运行模型前向计算，得到预测值\n",
    "            logits = model(img)\n",
    "            loss = F.binary_cross_entropy_with_logits(logits, label)\n",
    "            avg_loss = paddle.mean(loss)\n",
    "\n",
    "            if batch_id % 20 == 19:\n",
    "                print(\"epoch: {}, batch_id: {}, loss is: {:.4f}\".format(epoch+1, batch_id+1, float(avg_loss.numpy())))\n",
    "            # 反向传播，更新权重，清除梯度\n",
    "            avg_loss.backward()\n",
    "            optimizer.step()\n",
    "            optimizer.clear_grad()\n",
    "\n",
    "        model.eval()\n",
    "        accuracies = []\n",
    "        losses = []\n",
    "        for batch_id, data in enumerate(valid_loader()):\n",
    "            x_data, y_data = data\n",
    "            img = paddle.to_tensor(x_data)\n",
    "            label = paddle.reshape(paddle.to_tensor(y_data),(-1,1))\n",
    "            # 运行模型前向计算，得到预测值\n",
    "            logits = model(img)\n",
    "            # 二分类，sigmoid计算后的结果以0.5为阈值分两个类别\n",
    "            # 计算sigmoid后的预测概率，进行loss计算\n",
    "            pred = F.sigmoid(logits)\n",
    "            loss = F.binary_cross_entropy_with_logits(logits, label)\n",
    "            # 计算预测概率小于0.5的类别\n",
    "            pred2 = pred * (-1.0) + 1.0\n",
    "            # 得到两个类别的预测概率，并沿第一个维度级联\n",
    "            pred = paddle.concat([pred2, pred], axis=1)\n",
    "            acc = paddle.metric.accuracy(pred, paddle.cast(label, dtype='int64'))\n",
    "\n",
    "            accuracies.append(acc.numpy())\n",
    "            losses.append(loss.numpy())\n",
    "        print(\"[validation] accuracy/loss: {:.4f}/{:.4f}\".format(np.mean(accuracies), np.mean(losses)))\n",
    "        model.train()\n",
    "\n",
    "        paddle.save(model.state_dict(), 'model/palmp.pdparams')\n",
    "        paddle.save(optimizer.state_dict(), 'model/palmp.pdopt')"
   ]
  },
  {
   "cell_type": "code",
   "execution_count": 7,
   "metadata": {
    "collapsed": true,
    "execution": {
     "iopub.execute_input": "2023-02-03T06:55:36.694649Z",
     "iopub.status.busy": "2023-02-03T06:55:36.694177Z",
     "iopub.status.idle": "2023-02-03T07:13:43.621110Z",
     "shell.execute_reply": "2023-02-03T07:13:43.616991Z",
     "shell.execute_reply.started": "2023-02-03T06:55:36.694606Z"
    },
    "jupyter": {
     "outputs_hidden": true
    },
    "scrolled": true,
    "tags": []
   },
   "outputs": [
    {
     "name": "stdout",
     "output_type": "stream",
     "text": [
      "start training ... \n",
      "epoch: 1, batch_id: 20, loss is: 1.0326\n",
      "epoch: 1, batch_id: 40, loss is: 0.5023\n",
      "epoch: 1, batch_id: 60, loss is: 0.6070\n",
      "epoch: 1, batch_id: 80, loss is: 0.4975\n",
      "epoch: 1, batch_id: 100, loss is: 0.1995\n",
      "epoch: 1, batch_id: 120, loss is: 0.1507\n",
      "epoch: 1, batch_id: 140, loss is: 0.0392\n",
      "epoch: 1, batch_id: 160, loss is: 0.4684\n",
      "epoch: 1, batch_id: 180, loss is: 0.2646\n",
      "epoch: 1, batch_id: 200, loss is: 0.2130\n",
      "[validation] accuracy/loss: 0.9000/0.2542\n",
      "epoch: 2, batch_id: 20, loss is: 0.0728\n",
      "epoch: 2, batch_id: 40, loss is: 0.0846\n",
      "epoch: 2, batch_id: 60, loss is: 0.1180\n",
      "epoch: 2, batch_id: 80, loss is: 0.0045\n",
      "epoch: 2, batch_id: 100, loss is: 0.0247\n",
      "epoch: 2, batch_id: 120, loss is: 0.3566\n",
      "epoch: 2, batch_id: 140, loss is: 0.3164\n",
      "epoch: 2, batch_id: 160, loss is: 0.0617\n",
      "epoch: 2, batch_id: 180, loss is: 1.0732\n",
      "epoch: 2, batch_id: 200, loss is: 0.1328\n",
      "[validation] accuracy/loss: 0.9400/0.1629\n",
      "epoch: 3, batch_id: 20, loss is: 0.6663\n",
      "epoch: 3, batch_id: 40, loss is: 0.0103\n",
      "epoch: 3, batch_id: 60, loss is: 0.1638\n",
      "epoch: 3, batch_id: 80, loss is: 0.0360\n",
      "epoch: 3, batch_id: 100, loss is: 0.2888\n",
      "epoch: 3, batch_id: 120, loss is: 0.0458\n",
      "epoch: 3, batch_id: 140, loss is: 0.0272\n",
      "epoch: 3, batch_id: 160, loss is: 0.2249\n",
      "epoch: 3, batch_id: 180, loss is: 0.4462\n",
      "epoch: 3, batch_id: 200, loss is: 0.1539\n",
      "[validation] accuracy/loss: 0.9388/0.1725\n",
      "epoch: 4, batch_id: 20, loss is: 0.0777\n",
      "epoch: 4, batch_id: 40, loss is: 0.0645\n",
      "epoch: 4, batch_id: 60, loss is: 0.0775\n",
      "epoch: 4, batch_id: 80, loss is: 0.2113\n",
      "epoch: 4, batch_id: 100, loss is: 0.0134\n",
      "epoch: 4, batch_id: 120, loss is: 0.1057\n",
      "epoch: 4, batch_id: 140, loss is: 1.3612\n",
      "epoch: 4, batch_id: 160, loss is: 0.0176\n",
      "epoch: 4, batch_id: 180, loss is: 0.0149\n",
      "epoch: 4, batch_id: 200, loss is: 0.0008\n",
      "[validation] accuracy/loss: 0.9438/0.1368\n",
      "epoch: 5, batch_id: 20, loss is: 0.0110\n",
      "epoch: 5, batch_id: 40, loss is: 0.0434\n",
      "epoch: 5, batch_id: 60, loss is: 0.0106\n",
      "epoch: 5, batch_id: 80, loss is: 0.2507\n",
      "epoch: 5, batch_id: 100, loss is: 0.0077\n",
      "epoch: 5, batch_id: 120, loss is: 0.3957\n",
      "epoch: 5, batch_id: 140, loss is: 0.7897\n",
      "epoch: 5, batch_id: 160, loss is: 0.0352\n",
      "epoch: 5, batch_id: 180, loss is: 0.4163\n",
      "epoch: 5, batch_id: 200, loss is: 0.0138\n",
      "[validation] accuracy/loss: 0.9425/0.1498\n"
     ]
    }
   ],
   "source": [
    "opt = paddle.optimizer.Momentum(learning_rate=0.001, momentum=0.9, parameters=model.parameters())\n",
    "\n",
    "# 启动训练过程\n",
    "train_pm(model, opt)"
   ]
  },
  {
   "cell_type": "code",
   "execution_count": 5,
   "metadata": {
    "execution": {
     "iopub.execute_input": "2023-02-03T07:43:30.484549Z",
     "iopub.status.busy": "2023-02-03T07:43:30.483582Z",
     "iopub.status.idle": "2023-02-03T07:43:30.489991Z",
     "shell.execute_reply": "2023-02-03T07:43:30.489310Z",
     "shell.execute_reply.started": "2023-02-03T07:43:30.484513Z"
    },
    "scrolled": true,
    "tags": []
   },
   "outputs": [],
   "source": [
    "def predict(model, dataloader):\n",
    "    model.eval()\n",
    "    pred_list = np.array([])\n",
    "    file_list = np.array([])\n",
    "    for idx, data in enumerate(dataloader):\n",
    "        print('\\r{}/{}'.format(1+idx,len(dataloader)),end='')\n",
    "        x_data, filename = data\n",
    "        img = paddle.to_tensor(x_data)\n",
    "        # 运行模型前向计算，得到预测值\n",
    "        logits = model(img)\n",
    "        # 二分类，sigmoid计算后的结果以0.5为阈值分两个类别\n",
    "        # 计算sigmoid后的预测概率，进行loss计算\n",
    "        pred = F.sigmoid(logits)\n",
    "        pred_list = np.append(pred_list, pred.numpy().ravel())\n",
    "        file_list = np.append(file_list, filename)\n",
    "    return pred_list, file_list"
   ]
  },
  {
   "cell_type": "code",
   "execution_count": 6,
   "metadata": {
    "execution": {
     "iopub.execute_input": "2023-02-03T07:43:33.244208Z",
     "iopub.status.busy": "2023-02-03T07:43:33.243257Z",
     "iopub.status.idle": "2023-02-03T07:44:11.087254Z",
     "shell.execute_reply": "2023-02-03T07:44:11.086247Z",
     "shell.execute_reply.started": "2023-02-03T07:43:33.244172Z"
    },
    "scrolled": true,
    "tags": []
   },
   "outputs": [
    {
     "name": "stdout",
     "output_type": "stream",
     "text": [
      "100/100"
     ]
    }
   ],
   "source": [
    "# 读取模型\n",
    "model = AlexNet()\n",
    "model.set_state_dict(paddle.load('model/palmp.pdparams'))\n",
    "testdataset = MyDataset('data/PALM-Testing400',None)\n",
    "testdataloader = paddle.io.DataLoader(testdataset,shuffle=False,drop_last=False,batch_size=BATCH_SIZE)\n",
    "\n",
    "pred_list,file_list = predict(model, testdataloader)\n",
    "pd.DataFrame(np.c_[file_list,pred_list],columns=['FileName','PM Risk']).to_csv('Classification_Results.csv',index=False)"
   ]
  }
 ],
 "metadata": {
  "kernelspec": {
   "display_name": "base",
   "language": "python",
   "name": "python3"
  },
  "language_info": {
   "codemirror_mode": {
    "name": "ipython",
    "version": 3
   },
   "file_extension": ".py",
   "mimetype": "text/x-python",
   "name": "python",
   "nbconvert_exporter": "python",
   "pygments_lexer": "ipython3",
   "version": "3.10.8"
  },
  "vscode": {
   "interpreter": {
    "hash": "ec69b73d0a6985895cc9f85863fd33c600647e90f46968e0f1901acb27b9505b"
   }
  }
 },
 "nbformat": 4,
 "nbformat_minor": 4
}
